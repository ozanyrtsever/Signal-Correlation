{
 "cells": [
  {
   "cell_type": "code",
   "execution_count": 25,
   "id": "a5e5d4af",
   "metadata": {},
   "outputs": [],
   "source": [
    "import numpy as np\n",
    "import matplotlib.pyplot as plt\n",
    "signal_1 = np.array([0, 0, 0, 0, 0.1, 4, -2.2, 1.6, 0.1, 0.1, 0.2,0.1])\n",
    "signal_2 = np.array([0.1, 4, -2.2, 1.6, 0.1, 0.1, 0.2,0.1, 0, 0, 0, 0])"
   ]
  },
  {
   "cell_type": "code",
   "execution_count": 26,
   "id": "372e9aa2",
   "metadata": {},
   "outputs": [
    {
     "name": "stdout",
     "output_type": "stream",
     "text": [
      "[0.   0.   0.   0.   0.   0.   0.   0.   0.01 0.42 0.59 0.13 0.   0.\n",
      " 0.   0.   0.   0.   0.   0.   0.   0.   0.  ]\n"
     ]
    }
   ],
   "source": [
    "corr = np.zeros(2*len(signal_1)-1)\n",
    "temp_2 = np.zeros(len(signal_1))\n",
    "temp_1 = np.zeros(len(signal_1))\n",
    "\n",
    "for k in range(0,len(signal_1)):\n",
    "    sum = 0\n",
    "    for i in range(0, k+1):\n",
    "        temp_2[len(signal_1)-(i+1)] = signal_2[len(signal_1)-(i+1)]\n",
    "        temp_1[len(signal_1)-(i+1):len(signal_1)] = signal_1[0:i+1]\n",
    "    for j in range(0, len(signal_1)):\n",
    "        sum = sum + temp_1[j]*temp_2[j]\n",
    "    corr[k] = sum\n",
    "print(corr)\n"
   ]
  },
  {
   "cell_type": "code",
   "execution_count": 27,
   "id": "4f1eb52b",
   "metadata": {},
   "outputs": [
    {
     "name": "stdout",
     "output_type": "stream",
     "text": [
      "[ 0.000e+00  0.000e+00  0.000e+00  0.000e+00  0.000e+00  0.000e+00\n",
      "  0.000e+00  0.000e+00  1.000e-02  4.200e-01  5.900e-01  1.300e-01\n",
      "  6.700e-01  6.150e+00 -1.171e+01  2.348e+01 -1.171e+01  6.150e+00\n",
      "  6.700e-01  1.300e-01  5.900e-01  4.200e-01  1.000e-02]\n"
     ]
    }
   ],
   "source": [
    "temp_2 = np.copy(signal_2)\n",
    "for k in range(0,len(signal_1)-1):\n",
    "    sum = 0\n",
    "    for i in range(0, k+1):\n",
    "        temp_2[0:i+1] = np.zeros(i+1)\n",
    "        temp_2[i+1:len(signal_2)] = signal_2[0:len(signal_2)-i-1]\n",
    "    for j in range(0, len(signal_1)):\n",
    "        sum = sum + signal_1[j]*temp_2[j]\n",
    "    corr[len(signal_1)+k] = sum\n",
    "print(corr)"
   ]
  },
  {
   "cell_type": "code",
   "execution_count": 29,
   "id": "f7b1c48f",
   "metadata": {},
   "outputs": [
    {
     "name": "stdout",
     "output_type": "stream",
     "text": [
      "First signal delayed by  4.0\n"
     ]
    },
    {
     "data": {
      "image/png": "[encoded data removed]",
      "text/plain": [
       "<Figure size 432x288 with 1 Axes>"
      ]
     },
     "metadata": {
      "needs_background": "light"
     },
     "output_type": "display_data"
    }
   ],
   "source": [
    "lags = np.linspace(-(len(signal_1)-1), (len(signal_1)-1), 2*(len(signal_1))-1)\n",
    "plt.plot(lags, corr)\n",
    "print('First signal delayed by ',lags[np.where(corr == max(corr))[0][0]] )"
   ]
  }
 ],
 "metadata": {
  "kernelspec": {
   "display_name": "Python 3",
   "language": "python",
   "name": "python3"
  },
  "language_info": {
   "codemirror_mode": {
    "name": "ipython",
    "version": 3
   },
   "file_extension": ".py",
   "mimetype": "text/x-python",
   "name": "python",
   "nbconvert_exporter": "python",
   "pygments_lexer": "ipython3",
   "version": "3.8.5"
  }
 },
 "nbformat": 4,
 "nbformat_minor": 5
}
